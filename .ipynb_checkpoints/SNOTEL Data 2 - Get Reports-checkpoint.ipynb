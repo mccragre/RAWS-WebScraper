{
 "cells": [
  {
   "cell_type": "code",
   "execution_count": 19,
   "metadata": {},
   "outputs": [],
   "source": [
    "import numpy as np\n",
    "import pandas as pd\n",
    "import matplotlib.pyplot as plt\n",
    "from NRCS_report import Report\n",
    "import os, ssl \n",
    "from urllib.request import urlopen\n",
    "from bs4 import BeautifulSoup"
   ]
  },
  {
   "cell_type": "code",
   "execution_count": 20,
   "metadata": {},
   "outputs": [],
   "source": [
    "if (not os.environ.get('PYTHONHTTPSVERIFY', '') and getattr(ssl, '_create_unverified_context', None)):\n",
    "    ssl._create_default_https_context = ssl._create_unverified_context"
   ]
  },
  {
   "cell_type": "code",
   "execution_count": 2,
   "metadata": {},
   "outputs": [],
   "source": [
    "rep = Report()\n",
    "\n",
    "rep.GetIDs('SNTL')"
   ]
  },
  {
   "cell_type": "code",
   "execution_count": 4,
   "metadata": {},
   "outputs": [
    {
     "data": {
      "text/html": [
       "<div>\n",
       "<style scoped>\n",
       "    .dataframe tbody tr th:only-of-type {\n",
       "        vertical-align: middle;\n",
       "    }\n",
       "\n",
       "    .dataframe tbody tr th {\n",
       "        vertical-align: top;\n",
       "    }\n",
       "\n",
       "    .dataframe thead th {\n",
       "        text-align: right;\n",
       "    }\n",
       "</style>\n",
       "<table border=\"1\" class=\"dataframe\">\n",
       "  <thead>\n",
       "    <tr style=\"text-align: right;\">\n",
       "      <th></th>\n",
       "      <th>ntwk</th>\n",
       "      <th>state</th>\n",
       "      <th>site_name</th>\n",
       "      <th>ts</th>\n",
       "      <th>start</th>\n",
       "      <th>lat</th>\n",
       "      <th>lon</th>\n",
       "      <th>elev</th>\n",
       "      <th>county</th>\n",
       "      <th>huc</th>\n",
       "      <th>site_id</th>\n",
       "      <th>huc_name</th>\n",
       "    </tr>\n",
       "  </thead>\n",
       "  <tbody>\n",
       "    <tr>\n",
       "      <th>0</th>\n",
       "      <td>SNTL</td>\n",
       "      <td>AK</td>\n",
       "      <td>Alexander Lake</td>\n",
       "      <td></td>\n",
       "      <td>2014-August</td>\n",
       "      <td>61.75</td>\n",
       "      <td>-150.89</td>\n",
       "      <td>160</td>\n",
       "      <td>Matanuska-susitna</td>\n",
       "      <td>190205051106</td>\n",
       "      <td>1267</td>\n",
       "      <td>Headwaters Alexander Creek</td>\n",
       "    </tr>\n",
       "    <tr>\n",
       "      <th>1</th>\n",
       "      <td>SNTL</td>\n",
       "      <td>AK</td>\n",
       "      <td>American Creek</td>\n",
       "      <td></td>\n",
       "      <td>2011-August</td>\n",
       "      <td>64.79</td>\n",
       "      <td>-141.23</td>\n",
       "      <td>1050</td>\n",
       "      <td>Southeast Fairbanks</td>\n",
       "      <td>190705050504</td>\n",
       "      <td>1189</td>\n",
       "      <td>American Creek</td>\n",
       "    </tr>\n",
       "    <tr>\n",
       "      <th>2</th>\n",
       "      <td>SNTL</td>\n",
       "      <td>AK</td>\n",
       "      <td>Anchor River Divide</td>\n",
       "      <td></td>\n",
       "      <td>1980-October</td>\n",
       "      <td>59.86</td>\n",
       "      <td>-151.32</td>\n",
       "      <td>1653</td>\n",
       "      <td>Kenai Peninsula</td>\n",
       "      <td>190203010701</td>\n",
       "      <td>1062</td>\n",
       "      <td>Headwaters Anchor River</td>\n",
       "    </tr>\n",
       "    <tr>\n",
       "      <th>3</th>\n",
       "      <td>SNTL</td>\n",
       "      <td>AK</td>\n",
       "      <td>Anchorage Hillside</td>\n",
       "      <td></td>\n",
       "      <td>2004-October</td>\n",
       "      <td>61.11</td>\n",
       "      <td>-149.67</td>\n",
       "      <td>2080</td>\n",
       "      <td>Anchorage</td>\n",
       "      <td>190204010601</td>\n",
       "      <td>1070</td>\n",
       "      <td>South Fork Campbell Creek</td>\n",
       "    </tr>\n",
       "    <tr>\n",
       "      <th>4</th>\n",
       "      <td>SNTL</td>\n",
       "      <td>AK</td>\n",
       "      <td>Atigun Pass</td>\n",
       "      <td></td>\n",
       "      <td>1981-October</td>\n",
       "      <td>68.13</td>\n",
       "      <td>-149.48</td>\n",
       "      <td>4800</td>\n",
       "      <td>North Slope</td>\n",
       "      <td>190802010102</td>\n",
       "      <td>957</td>\n",
       "      <td>Chandalar Shelf</td>\n",
       "    </tr>\n",
       "  </tbody>\n",
       "</table>\n",
       "</div>"
      ],
      "text/plain": [
       "       ntwk state             site_name ts         start    lat     lon  elev  \\\n",
       "0  SNTL        AK       Alexander Lake       2014-August  61.75 -150.89   160   \n",
       "1  SNTL        AK       American Creek       2011-August  64.79 -141.23  1050   \n",
       "2  SNTL        AK  Anchor River Divide      1980-October  59.86 -151.32  1653   \n",
       "3  SNTL        AK   Anchorage Hillside      2004-October  61.11 -149.67  2080   \n",
       "4  SNTL        AK          Atigun Pass      1981-October  68.13 -149.48  4800   \n",
       "\n",
       "                county           huc  site_id                     huc_name  \n",
       "0    Matanuska-susitna  190205051106     1267  Headwaters Alexander Creek   \n",
       "1  Southeast Fairbanks  190705050504     1189              American Creek   \n",
       "2      Kenai Peninsula  190203010701     1062     Headwaters Anchor River   \n",
       "3            Anchorage  190204010601     1070   South Fork Campbell Creek   \n",
       "4          North Slope  190802010102      957             Chandalar Shelf   "
      ]
     },
     "execution_count": 4,
     "metadata": {},
     "output_type": "execute_result"
    }
   ],
   "source": [
    "rep.SiteIDs.head()"
   ]
  },
  {
   "cell_type": "markdown",
   "metadata": {},
   "source": [
    "Now that we can pull all the site ID information we can request reports from specific sites\n",
    "or hopefully from a group of sites. That must be requested via a URL. The URL contains other info as well:\n",
    "* Data types to be shown\n",
    "* Time period to get data for\n",
    "    \n",
    "    "
   ]
  },
  {
   "cell_type": "code",
   "execution_count": 5,
   "metadata": {},
   "outputs": [
    {
     "data": {
      "text/html": [
       "<div>\n",
       "<style scoped>\n",
       "    .dataframe tbody tr th:only-of-type {\n",
       "        vertical-align: middle;\n",
       "    }\n",
       "\n",
       "    .dataframe tbody tr th {\n",
       "        vertical-align: top;\n",
       "    }\n",
       "\n",
       "    .dataframe thead th {\n",
       "        text-align: right;\n",
       "    }\n",
       "</style>\n",
       "<table border=\"1\" class=\"dataframe\">\n",
       "  <thead>\n",
       "    <tr style=\"text-align: right;\">\n",
       "      <th></th>\n",
       "      <th>ntwk</th>\n",
       "      <th>state</th>\n",
       "      <th>site_name</th>\n",
       "      <th>ts</th>\n",
       "      <th>start</th>\n",
       "      <th>lat</th>\n",
       "      <th>lon</th>\n",
       "      <th>elev</th>\n",
       "      <th>county</th>\n",
       "      <th>huc</th>\n",
       "      <th>site_id</th>\n",
       "      <th>huc_name</th>\n",
       "    </tr>\n",
       "  </thead>\n",
       "  <tbody>\n",
       "    <tr>\n",
       "      <th>88</th>\n",
       "      <td>SNTL</td>\n",
       "      <td>CA</td>\n",
       "      <td>Adin Mtn</td>\n",
       "      <td></td>\n",
       "      <td>1983-October</td>\n",
       "      <td>41.24</td>\n",
       "      <td>-120.79</td>\n",
       "      <td>6190</td>\n",
       "      <td>Modoc</td>\n",
       "      <td>180200021403</td>\n",
       "      <td>301</td>\n",
       "      <td>Cottonwood Creek</td>\n",
       "    </tr>\n",
       "    <tr>\n",
       "      <th>89</th>\n",
       "      <td>SNTL</td>\n",
       "      <td>CA</td>\n",
       "      <td>Blue Lakes</td>\n",
       "      <td></td>\n",
       "      <td>1980-October</td>\n",
       "      <td>38.61</td>\n",
       "      <td>-119.92</td>\n",
       "      <td>8067</td>\n",
       "      <td>Alpine</td>\n",
       "      <td>180400120101</td>\n",
       "      <td>356</td>\n",
       "      <td>Deer Creek</td>\n",
       "    </tr>\n",
       "    <tr>\n",
       "      <th>90</th>\n",
       "      <td>SNTL</td>\n",
       "      <td>CA</td>\n",
       "      <td>Burnside Lake</td>\n",
       "      <td></td>\n",
       "      <td>2003-October</td>\n",
       "      <td>38.72</td>\n",
       "      <td>-119.89</td>\n",
       "      <td>8129</td>\n",
       "      <td>Alpine</td>\n",
       "      <td>160502010107</td>\n",
       "      <td>1051</td>\n",
       "      <td>Hot Springs Creek</td>\n",
       "    </tr>\n",
       "    <tr>\n",
       "      <th>91</th>\n",
       "      <td>SNTL</td>\n",
       "      <td>CA</td>\n",
       "      <td>Carson Pass</td>\n",
       "      <td></td>\n",
       "      <td>2004-October</td>\n",
       "      <td>38.69</td>\n",
       "      <td>-120</td>\n",
       "      <td>8360</td>\n",
       "      <td>Alpine</td>\n",
       "      <td>180201290101</td>\n",
       "      <td>1067</td>\n",
       "      <td>Caples Creek</td>\n",
       "    </tr>\n",
       "    <tr>\n",
       "      <th>92</th>\n",
       "      <td>SNTL</td>\n",
       "      <td>CA</td>\n",
       "      <td>Cedar Pass</td>\n",
       "      <td></td>\n",
       "      <td>1977-October</td>\n",
       "      <td>41.58</td>\n",
       "      <td>-120.3</td>\n",
       "      <td>7030</td>\n",
       "      <td>Modoc</td>\n",
       "      <td>180200020603</td>\n",
       "      <td>391</td>\n",
       "      <td>Thoms Creek</td>\n",
       "    </tr>\n",
       "  </tbody>\n",
       "</table>\n",
       "</div>"
      ],
      "text/plain": [
       "        ntwk state       site_name ts         start    lat     lon  elev  \\\n",
       "88  SNTL        CA       Adin Mtn      1983-October  41.24 -120.79  6190   \n",
       "89  SNTL        CA     Blue Lakes      1980-October  38.61 -119.92  8067   \n",
       "90  SNTL        CA  Burnside Lake      2003-October  38.72 -119.89  8129   \n",
       "91  SNTL        CA    Carson Pass      2004-October  38.69    -120  8360   \n",
       "92  SNTL        CA     Cedar Pass      1977-October  41.58  -120.3  7030   \n",
       "\n",
       "    county           huc  site_id            huc_name  \n",
       "88   Modoc  180200021403      301   Cottonwood Creek   \n",
       "89  Alpine  180400120101      356         Deer Creek   \n",
       "90  Alpine  160502010107     1051  Hot Springs Creek   \n",
       "91  Alpine  180201290101     1067       Caples Creek   \n",
       "92   Modoc  180200020603      391        Thoms Creek   "
      ]
     },
     "execution_count": 5,
     "metadata": {},
     "output_type": "execute_result"
    }
   ],
   "source": [
    "State = 'CA'\n",
    "I_state = rep.SiteIDs['state'] == 'CA'\n",
    "\n",
    "rep.SiteIDs.loc[I_state].head()\n"
   ]
  },
  {
   "cell_type": "code",
   "execution_count": 6,
   "metadata": {},
   "outputs": [],
   "source": [
    "Sites = [['AK',1062],['CA',1067]]\n",
    "#sites seem to be entered as SiteID:StateStr:StationType, so the CA's Blue Lakes site we have:\n",
    "    #356:CA:SNTL"
   ]
  },
  {
   "cell_type": "code",
   "execution_count": 6,
   "metadata": {},
   "outputs": [],
   "source": [
    "#Lets get a URL with some properties for the report:\n",
    "    #Two site from different states, listed above in Sites list\n",
    "    #Two data types: Snow Depth and Snow Water Equivalent, both Values\n",
    "    #Yearly values from March 31st each year from 2015-2020\n",
    "    \n",
    "    #The input webpage is save as 'Snotel_Data2_ReportInput1.pdf' in this directory\n",
    "    #output webpage is also saved\n",
    "\n"
   ]
  },
  {
   "cell_type": "markdown",
   "metadata": {},
   "source": [
    "This is the URL:\n",
    "https://wcc.sc.egov.usda.gov/reportGenerator/view/customMultiTimeSeriesGroupByStationReport/monthly/start_of_period/1062:AK:SNTL%7C1067:CA:SNTL%7Cid=%22%22%7Cname/2015-03-31,2020-03-31:M%7C3/stationId,name,SNWD::value,WTEQ::value?fitToScreen=false"
   ]
  },
  {
   "cell_type": "markdown",
   "metadata": {},
   "source": [
    "This segment seems to be common to all custom reports:\n",
    "* https://wcc.sc.egov.usda.gov/reportGenerator/view/customMultiTimeSeriesGroupByStationReport\n",
    "\n",
    "To make a report by a single month per year this segment is added to the initial one:\n",
    "* /monthly/\n",
    "\n",
    "Whether the value from start of end of month is used is controlled by the next sgement:\n",
    "* /start_of_period/\n",
    "* /end_of_period/\n",
    "\n",
    "Stations IDs are in next segment:\n",
    "* /1062:AK:SNTL%7C1067:CA:SNTL%7Cid=%22%22%7Cname/\n",
    "* IDs are separated by %7C (in fact this is common in other segments as well)\n",
    "* IDs input as ID:State Symbol:Site Type Symbol\n",
    "* not sure what last bit does yet, but it must be included 'id=%22%22%7Cname'\n",
    "\n",
    "The month data is are plotted for is controlled by this segment: /2015-03-31,2020-03-31:M%7C3/\n",
    "* Important quantity is the year and the month number which is the last number in the segment\n",
    "* So if we want data for June from 1985-2000 we can input: /1985-01-01,2000-01-01:M%7C6/\n",
    "\n",
    "The last segment is the data to be plotted and I believe what the header's look like:\n",
    "* example '/stationId,name,SNWD::value,WTEQ::value?fitToScreen=false'\n",
    "* the first bit must be something with the headers, but I don't understand how to modify: 'stationId,name,'\n",
    "* here data types to be shown are input as: Data Symbol::data type\n",
    "    * value is just the value for that day. There are some other options such as 'Delta from previous value (not sure what symbol is input for that one)'\n",
    "    * the data type symbols as they are figured out are to be listed in self.DataTypes for the convenience of the user\n",
    "* The last bit should always be included, does not affect bs4 functionality: '?fitToScreen=false'\n"
   ]
  },
  {
   "cell_type": "code",
   "execution_count": 7,
   "metadata": {},
   "outputs": [
    {
     "data": {
      "text/html": [
       "<div>\n",
       "<style scoped>\n",
       "    .dataframe tbody tr th:only-of-type {\n",
       "        vertical-align: middle;\n",
       "    }\n",
       "\n",
       "    .dataframe tbody tr th {\n",
       "        vertical-align: top;\n",
       "    }\n",
       "\n",
       "    .dataframe thead th {\n",
       "        text-align: right;\n",
       "    }\n",
       "</style>\n",
       "<table border=\"1\" class=\"dataframe\">\n",
       "  <thead>\n",
       "    <tr style=\"text-align: right;\">\n",
       "      <th></th>\n",
       "      <th>Data type</th>\n",
       "      <th>Input ID</th>\n",
       "      <th>Units</th>\n",
       "    </tr>\n",
       "  </thead>\n",
       "  <tbody>\n",
       "    <tr>\n",
       "      <th>0</th>\n",
       "      <td>Snow Depth</td>\n",
       "      <td>SNWD</td>\n",
       "      <td>in</td>\n",
       "    </tr>\n",
       "    <tr>\n",
       "      <th>1</th>\n",
       "      <td>Snow Water Equivalent</td>\n",
       "      <td>WTEQ</td>\n",
       "      <td>in</td>\n",
       "    </tr>\n",
       "  </tbody>\n",
       "</table>\n",
       "</div>"
      ],
      "text/plain": [
       "               Data type Input ID Units\n",
       "0             Snow Depth     SNWD    in\n",
       "1  Snow Water Equivalent     WTEQ    in"
      ]
     },
     "execution_count": 7,
     "metadata": {},
     "output_type": "execute_result"
    }
   ],
   "source": [
    "rep.DataTypes.head()"
   ]
  },
  {
   "cell_type": "code",
   "execution_count": 8,
   "metadata": {},
   "outputs": [
    {
     "name": "stdout",
     "output_type": "stream",
     "text": [
      "https://wcc.sc.egov.usda.gov/reportGenerator/view/customMultiTimeSeriesGroupByStationReport/monthly/start_of_period/1062:AK:SNTL%7C1067:CA:SNTL%7Cid=%22%22%7Cname/2010-01-01,2020-12-31:M%7C3/stationId,name,SNWD::value,WTEQ::value?fitToScreen=false\n"
     ]
    }
   ],
   "source": [
    "rep.GetReport()\n",
    "\n",
    "print(rep.URL)"
   ]
  },
  {
   "cell_type": "code",
   "execution_count": 17,
   "metadata": {},
   "outputs": [],
   "source": [
    "TimeInfo={'month':2,'timeofmonth':'end','years':(1987,1993)}\n",
    "DataTypes={'WTEQ':'value','SNWD':'value'}\n",
    "SiteIDs = [['CA',391,'SNTL'],['AK',1062,'SNTL'],['CA',1067,'SNTL'],['CA',1051,'SNTL']]\n",
    "\n",
    "rep.GetReport(TimeOption='Monthly',DataTypes=DataTypes,SiteIDs=SiteIDs,TimeInfo=TimeInfo)"
   ]
  },
  {
   "cell_type": "code",
   "execution_count": 18,
   "metadata": {},
   "outputs": [
    {
     "data": {
      "text/plain": [
       "'https://wcc.sc.egov.usda.gov/reportGenerator/view/customMultiTimeSeriesGroupByStationReport/monthly/end_of_period/391:CA:SNTL%7C1062:AK:SNTL%7C1067:CA:SNTL%7C1051:CA:SNTL%7Cid=%22%22%7Cname/1987-01-01,1993-12-31:M%7C2/stationId,name,WTEQ::value,SNWD::value?fitToScreen=false'"
      ]
     },
     "execution_count": 18,
     "metadata": {},
     "output_type": "execute_result"
    }
   ],
   "source": [
    "rep.URL"
   ]
  },
  {
   "cell_type": "markdown",
   "metadata": {},
   "source": [
    "Now the table must be read from the HTML code. Interestingly the order input of the DataTypes affects the column ordering, but the ordering of the SiteIDs does not, that seems to have some preferred ordering independent of the user input order. It goes in the order of the listing page first by state and then by site name. So the column headers could be determined by 1) input order for datatype and 2) alphabetical order for site. Or it can be extracted from the HTML."
   ]
  },
  {
   "cell_type": "code",
   "execution_count": 65,
   "metadata": {},
   "outputs": [],
   "source": [
    "#Develop code for getting the report\n",
    "URLrep = urlopen(rep.URL)\n",
    "BS = BeautifulSoup(URLrep,'html.parser')"
   ]
  },
  {
   "cell_type": "code",
   "execution_count": 69,
   "metadata": {},
   "outputs": [],
   "source": [
    "Table = BS.find_all('table',{'role':'grid'})"
   ]
  },
  {
   "cell_type": "code",
   "execution_count": 70,
   "metadata": {},
   "outputs": [],
   "source": [
    "Ntable = len(Table)\n",
    "IndTable = -1\n",
    "#tabPanel:formReport:tblViewData_head\n",
    "for ii in range(Ntable):\n",
    "    Thead = Table[ii].find('thead',{'id':'tabPanel:formReport:tblViewData_head'})\n",
    "    if (Thead is None) == False:\n",
    "        IndTable = ii\n",
    "        \n",
    "Table = Table[IndTable]"
   ]
  },
  {
   "cell_type": "code",
   "execution_count": 74,
   "metadata": {},
   "outputs": [
    {
     "name": "stdout",
     "output_type": "stream",
     "text": [
      "7\n"
     ]
    },
    {
     "ename": "ValueError",
     "evalue": "could not convert string to float: 'Feb 1987'",
     "output_type": "error",
     "traceback": [
      "\u001b[0;31m---------------------------------------------------------------------------\u001b[0m",
      "\u001b[0;31mValueError\u001b[0m                                Traceback (most recent call last)",
      "\u001b[0;32m<ipython-input-74-db6b10f2b2f0>\u001b[0m in \u001b[0;36m<module>\u001b[0;34m\u001b[0m\n\u001b[1;32m      9\u001b[0m         \u001b[0mData\u001b[0m \u001b[0;34m=\u001b[0m \u001b[0mnp\u001b[0m\u001b[0;34m.\u001b[0m\u001b[0mzeros\u001b[0m\u001b[0;34m(\u001b[0m\u001b[0;34m(\u001b[0m\u001b[0mNrows\u001b[0m\u001b[0;34m,\u001b[0m\u001b[0mNcol\u001b[0m\u001b[0;34m)\u001b[0m\u001b[0;34m)\u001b[0m\u001b[0;34m\u001b[0m\u001b[0;34m\u001b[0m\u001b[0m\n\u001b[1;32m     10\u001b[0m     \u001b[0;32mfor\u001b[0m \u001b[0mjj\u001b[0m \u001b[0;32min\u001b[0m \u001b[0mrange\u001b[0m\u001b[0;34m(\u001b[0m\u001b[0mNcol\u001b[0m\u001b[0;34m)\u001b[0m\u001b[0;34m:\u001b[0m\u001b[0;34m\u001b[0m\u001b[0;34m\u001b[0m\u001b[0m\n\u001b[0;32m---> 11\u001b[0;31m         \u001b[0mData\u001b[0m\u001b[0;34m[\u001b[0m\u001b[0mii\u001b[0m\u001b[0;34m,\u001b[0m\u001b[0mjj\u001b[0m\u001b[0;34m]\u001b[0m \u001b[0;34m=\u001b[0m \u001b[0mEls\u001b[0m\u001b[0;34m[\u001b[0m\u001b[0mjj\u001b[0m\u001b[0;34m]\u001b[0m\u001b[0;34m.\u001b[0m\u001b[0mtext\u001b[0m\u001b[0;34m\u001b[0m\u001b[0;34m\u001b[0m\u001b[0m\n\u001b[0m",
      "\u001b[0;31mValueError\u001b[0m: could not convert string to float: 'Feb 1987'"
     ]
    }
   ],
   "source": [
    "Rows = Table.find_all('tr',{'role':'row'})\n",
    "Nrows = len(Rows)\n",
    "print(Nrows)\n",
    "\n",
    "for ii in range(Nrows):\n",
    "    Els = Rows[ii].find_all('td',{'role':'gridcell'})\n",
    "    Ncol = len(Els)\n",
    "    if ii == 0:\n",
    "        Data = np.zeros((Nrows,Ncol))\n",
    "#     for jj in range(Ncol):\n",
    "#         Data[ii,jj] = Els[jj].text\n",
    "    #need to think about in what form to extract that data"
   ]
  },
  {
   "cell_type": "code",
   "execution_count": null,
   "metadata": {},
   "outputs": [],
   "source": []
  }
 ],
 "metadata": {
  "kernelspec": {
   "display_name": "Python 3",
   "language": "python",
   "name": "python3"
  },
  "language_info": {
   "codemirror_mode": {
    "name": "ipython",
    "version": 3
   },
   "file_extension": ".py",
   "mimetype": "text/x-python",
   "name": "python",
   "nbconvert_exporter": "python",
   "pygments_lexer": "ipython3",
   "version": "3.8.5"
  }
 },
 "nbformat": 4,
 "nbformat_minor": 4
}
