{
 "cells": [
  {
   "cell_type": "markdown",
   "metadata": {},
   "source": [
    "## Beginning Analysis Notebook"
   ]
  },
  {
   "cell_type": "markdown",
   "metadata": {},
   "source": [
    "In this notebook we will begin analysis of the California wildfires dataset. The goal is to find classification techniques that accurately give us predictive power of california wildfires."
   ]
  },
  {
   "cell_type": "code",
   "execution_count": 1,
   "metadata": {},
   "outputs": [
    {
     "name": "stderr",
     "output_type": "stream",
     "text": [
      "C:\\Users\\Pat\\Anaconda3\\lib\\site-packages\\statsmodels\\tools\\_testing.py:19: FutureWarning: pandas.util.testing is deprecated. Use the functions in the public API at pandas.testing instead.\n",
      "  import pandas.util.testing as tm\n"
     ]
    }
   ],
   "source": [
    "#Packages we will use\n",
    "import noaa_data as noaa\n",
    "import pandas as pd\n",
    "import matplotlib.pyplot as plt\n",
    "import seaborn as sns\n",
    "import numpy as np\n",
    "from datetime import datetime"
   ]
  },
  {
   "cell_type": "markdown",
   "metadata": {},
   "source": [
    "First we are going to import in the wildfire data."
   ]
  },
  {
   "cell_type": "code",
   "execution_count": 2,
   "metadata": {},
   "outputs": [],
   "source": [
    "wf = noaa.get_wf_data(r'Cal_Wildfires/California_Fire_Incidents.csv', 50)"
   ]
  },
  {
   "cell_type": "code",
   "execution_count": 3,
   "metadata": {},
   "outputs": [
    {
     "data": {
      "text/plain": [
       "0       2013-08-17T15:25:00Z\n",
       "1       2013-05-30T15:28:00Z\n",
       "2       2013-07-15T13:43:00Z\n",
       "3       2013-08-10T16:30:00Z\n",
       "5       2013-07-22T22:15:00Z\n",
       "                ...         \n",
       "1555    2019-06-08T14:37:00Z\n",
       "1556    2019-05-01T16:46:00Z\n",
       "1633    2019-11-25T12:02:02Z\n",
       "1634    2019-10-22T19:20:44Z\n",
       "1635    2019-10-14T15:32:20Z\n",
       "Name: Started, Length: 984, dtype: object"
      ]
     },
     "execution_count": 3,
     "metadata": {},
     "output_type": "execute_result"
    }
   ],
   "source": [
    "wf['Started']"
   ]
  },
  {
   "cell_type": "code",
   "execution_count": 4,
   "metadata": {},
   "outputs": [],
   "source": [
    "from datetime import datetime"
   ]
  },
  {
   "cell_type": "code",
   "execution_count": 5,
   "metadata": {},
   "outputs": [],
   "source": [
    "wf['Started'] = wf['Started'].apply(lambda x: datetime.strptime(str(x[:10]),\"%Y-%m-%d\"))"
   ]
  },
  {
   "cell_type": "code",
   "execution_count": 6,
   "metadata": {
    "collapsed": true,
    "jupyter": {
     "outputs_hidden": true
    }
   },
   "outputs": [
    {
     "data": {
      "text/html": [
       "<div>\n",
       "<style scoped>\n",
       "    .dataframe tbody tr th:only-of-type {\n",
       "        vertical-align: middle;\n",
       "    }\n",
       "\n",
       "    .dataframe tbody tr th {\n",
       "        vertical-align: top;\n",
       "    }\n",
       "\n",
       "    .dataframe thead th {\n",
       "        text-align: right;\n",
       "    }\n",
       "</style>\n",
       "<table border=\"1\" class=\"dataframe\">\n",
       "  <thead>\n",
       "    <tr style=\"text-align: right;\">\n",
       "      <th></th>\n",
       "      <th>AcresBurned</th>\n",
       "      <th>ArchiveYear</th>\n",
       "      <th>Counties</th>\n",
       "      <th>Extinguished</th>\n",
       "      <th>Latitude</th>\n",
       "      <th>Longitude</th>\n",
       "      <th>Name</th>\n",
       "      <th>Started</th>\n",
       "      <th>coords</th>\n",
       "    </tr>\n",
       "  </thead>\n",
       "  <tbody>\n",
       "    <tr>\n",
       "      <th>0</th>\n",
       "      <td>257314.0</td>\n",
       "      <td>2013</td>\n",
       "      <td>Tuolumne</td>\n",
       "      <td>2013-09-06T18:30:00Z</td>\n",
       "      <td>37.857000</td>\n",
       "      <td>-120.086000</td>\n",
       "      <td>Rim Fire</td>\n",
       "      <td>2013-08-17</td>\n",
       "      <td>(37.857, -120.086)</td>\n",
       "    </tr>\n",
       "    <tr>\n",
       "      <th>1</th>\n",
       "      <td>30274.0</td>\n",
       "      <td>2013</td>\n",
       "      <td>Los Angeles</td>\n",
       "      <td>2013-06-08T18:30:00Z</td>\n",
       "      <td>34.585595</td>\n",
       "      <td>-118.423176</td>\n",
       "      <td>Powerhouse Fire</td>\n",
       "      <td>2013-05-30</td>\n",
       "      <td>(34.585595, -118.423176)</td>\n",
       "    </tr>\n",
       "    <tr>\n",
       "      <th>2</th>\n",
       "      <td>27531.0</td>\n",
       "      <td>2013</td>\n",
       "      <td>Riverside</td>\n",
       "      <td>2013-07-30T18:00:00Z</td>\n",
       "      <td>33.709500</td>\n",
       "      <td>-116.728850</td>\n",
       "      <td>Mountain Fire</td>\n",
       "      <td>2013-07-15</td>\n",
       "      <td>(33.7095, -116.72885)</td>\n",
       "    </tr>\n",
       "    <tr>\n",
       "      <th>3</th>\n",
       "      <td>27440.0</td>\n",
       "      <td>2013</td>\n",
       "      <td>Placer</td>\n",
       "      <td>2013-08-30T08:00:00Z</td>\n",
       "      <td>39.120000</td>\n",
       "      <td>-120.650000</td>\n",
       "      <td>American Fire</td>\n",
       "      <td>2013-08-10</td>\n",
       "      <td>(39.12, -120.65)</td>\n",
       "    </tr>\n",
       "    <tr>\n",
       "      <th>5</th>\n",
       "      <td>22992.0</td>\n",
       "      <td>2013</td>\n",
       "      <td>Fresno</td>\n",
       "      <td>2013-09-24T20:15:00Z</td>\n",
       "      <td>37.279000</td>\n",
       "      <td>-119.318000</td>\n",
       "      <td>Aspen Fire</td>\n",
       "      <td>2013-07-22</td>\n",
       "      <td>(37.279, -119.318)</td>\n",
       "    </tr>\n",
       "  </tbody>\n",
       "</table>\n",
       "</div>"
      ],
      "text/plain": [
       "   AcresBurned  ArchiveYear     Counties          Extinguished   Latitude  \\\n",
       "0     257314.0         2013     Tuolumne  2013-09-06T18:30:00Z  37.857000   \n",
       "1      30274.0         2013  Los Angeles  2013-06-08T18:30:00Z  34.585595   \n",
       "2      27531.0         2013    Riverside  2013-07-30T18:00:00Z  33.709500   \n",
       "3      27440.0         2013       Placer  2013-08-30T08:00:00Z  39.120000   \n",
       "5      22992.0         2013       Fresno  2013-09-24T20:15:00Z  37.279000   \n",
       "\n",
       "    Longitude             Name    Started                    coords  \n",
       "0 -120.086000         Rim Fire 2013-08-17        (37.857, -120.086)  \n",
       "1 -118.423176  Powerhouse Fire 2013-05-30  (34.585595, -118.423176)  \n",
       "2 -116.728850    Mountain Fire 2013-07-15     (33.7095, -116.72885)  \n",
       "3 -120.650000    American Fire 2013-08-10          (39.12, -120.65)  \n",
       "5 -119.318000       Aspen Fire 2013-07-22        (37.279, -119.318)  "
      ]
     },
     "execution_count": 6,
     "metadata": {},
     "output_type": "execute_result"
    }
   ],
   "source": [
    "wf.head()"
   ]
  },
  {
   "cell_type": "code",
   "execution_count": 7,
   "metadata": {},
   "outputs": [
    {
     "data": {
      "text/plain": [
       "2019"
      ]
     },
     "execution_count": 7,
     "metadata": {},
     "output_type": "execute_result"
    }
   ],
   "source": [
    "wf.ArchiveYear.max()"
   ]
  },
  {
   "cell_type": "code",
   "execution_count": 10,
   "metadata": {
    "collapsed": true,
    "jupyter": {
     "outputs_hidden": true
    }
   },
   "outputs": [
    {
     "data": {
      "text/plain": [
       "AcresBurned     171\n",
       "ArchiveYear     174\n",
       "Counties        174\n",
       "Extinguished    127\n",
       "Latitude        174\n",
       "Longitude       174\n",
       "Name            174\n",
       "Started         174\n",
       "coords          174\n",
       "dtype: int64"
      ]
     },
     "execution_count": 10,
     "metadata": {},
     "output_type": "execute_result"
    }
   ],
   "source": [
    "# Lets see how many fires in 2019\n",
    "wf.loc[wf.ArchiveYear == 2019].count()"
   ]
  },
  {
   "cell_type": "markdown",
   "metadata": {},
   "source": [
    "Now lets start to load in our climate and location data. Lets take 6 years from 2013 - 2019, just to be complete about it. This will be a lot of data."
   ]
  },
  {
   "cell_type": "code",
   "execution_count": 23,
   "metadata": {
    "collapsed": true,
    "jupyter": {
     "outputs_hidden": true
    }
   },
   "outputs": [
    {
     "name": "stdout",
     "output_type": "stream",
     "text": [
      "working on year 2013\n",
      "1\n",
      "1001\n",
      "2001\n",
      "3001\n",
      "4001\n",
      "5001\n",
      "6001\n",
      "7001\n",
      "working on year 2014\n",
      "1\n",
      "1001\n",
      "2001\n",
      "3001\n",
      "4001\n",
      "5001\n",
      "6001\n",
      "7001\n",
      "working on year 2015\n",
      "1\n",
      "1001\n",
      "2001\n",
      "3001\n",
      "4001\n",
      "5001\n",
      "6001\n",
      "7001\n",
      "working on year 2016\n",
      "1\n",
      "1001\n",
      "2001\n",
      "3001\n",
      "4001\n",
      "5001\n",
      "6001\n",
      "working on year 2017\n",
      "1\n",
      "1001\n",
      "2001\n",
      "3001\n",
      "4001\n",
      "5001\n",
      "6001\n",
      "working on year 2018\n",
      "1\n",
      "1001\n",
      "2001\n",
      "3001\n",
      "4001\n",
      "5001\n",
      "6001\n",
      "working on year 2019\n",
      "1\n",
      "1001\n",
      "2001\n",
      "3001\n",
      "4001\n",
      "5001\n",
      "6001\n"
     ]
    }
   ],
   "source": [
    "tmax = noaa.get_mo_data_noaa('TMAX', 2013, 2019) # Mean Max temp"
   ]
  },
  {
   "cell_type": "code",
   "execution_count": 24,
   "metadata": {
    "collapsed": true,
    "jupyter": {
     "outputs_hidden": true
    }
   },
   "outputs": [
    {
     "name": "stdout",
     "output_type": "stream",
     "text": [
      "working on year 2013\n",
      "1\n",
      "1001\n",
      "2001\n",
      "3001\n",
      "4001\n",
      "5001\n",
      "6001\n",
      "7001\n",
      "working on year 2014\n",
      "1\n",
      "1001\n",
      "2001\n",
      "3001\n",
      "4001\n",
      "5001\n",
      "6001\n",
      "7001\n",
      "working on year 2015\n",
      "1\n",
      "1001\n",
      "2001\n",
      "3001\n",
      "4001\n",
      "5001\n",
      "6001\n",
      "7001\n",
      "working on year 2016\n",
      "1\n",
      "1001\n",
      "2001\n",
      "3001\n",
      "4001\n",
      "5001\n",
      "6001\n",
      "working on year 2017\n",
      "1\n",
      "1001\n",
      "2001\n",
      "3001\n",
      "4001\n",
      "5001\n",
      "6001\n",
      "working on year 2018\n",
      "1\n",
      "1001\n",
      "2001\n",
      "3001\n",
      "4001\n",
      "5001\n",
      "6001\n",
      "working on year 2019\n",
      "1\n",
      "1001\n",
      "2001\n",
      "3001\n",
      "4001\n",
      "5001\n",
      "6001\n"
     ]
    }
   ],
   "source": [
    "tmin = noaa.get_mo_data_noaa('TMIN', 2013, 2019) # Mean Min temp"
   ]
  },
  {
   "cell_type": "code",
   "execution_count": 12,
   "metadata": {
    "collapsed": true,
    "jupyter": {
     "outputs_hidden": true
    }
   },
   "outputs": [
    {
     "name": "stdout",
     "output_type": "stream",
     "text": [
      "working on year 2013\n",
      "1\n",
      "1001\n",
      "2001\n",
      "3001\n",
      "4001\n",
      "5001\n",
      "6001\n",
      "7001\n",
      "working on year 2014\n",
      "1\n",
      "1001\n",
      "2001\n",
      "3001\n",
      "4001\n",
      "5001\n",
      "6001\n",
      "7001\n",
      "working on year 2015\n",
      "1\n",
      "1001\n",
      "2001\n",
      "3001\n",
      "4001\n",
      "5001\n",
      "6001\n",
      "7001\n",
      "working on year 2016\n",
      "1\n",
      "1001\n",
      "2001\n",
      "3001\n",
      "4001\n",
      "5001\n",
      "6001\n",
      "working on year 2017\n",
      "1\n",
      "1001\n",
      "2001\n",
      "3001\n",
      "4001\n",
      "5001\n",
      "6001\n",
      "working on year 2018\n",
      "1\n",
      "1001\n",
      "2001\n",
      "3001\n",
      "4001\n",
      "5001\n",
      "6001\n",
      "working on year 2019\n",
      "1\n",
      "1001\n",
      "2001\n",
      "3001\n",
      "4001\n",
      "5001\n",
      "6001\n"
     ]
    }
   ],
   "source": [
    "tavg = noaa.get_mo_data_noaa('TAVG', 2013, 2019) # Average temp for month"
   ]
  },
  {
   "cell_type": "code",
   "execution_count": 13,
   "metadata": {
    "collapsed": true,
    "jupyter": {
     "outputs_hidden": true
    }
   },
   "outputs": [
    {
     "name": "stdout",
     "output_type": "stream",
     "text": [
      "working on year 2013\n",
      "1\n",
      "1001\n",
      "2001\n",
      "3001\n",
      "4001\n",
      "5001\n",
      "6001\n",
      "7001\n",
      "working on year 2014\n",
      "1\n",
      "1001\n",
      "2001\n",
      "3001\n",
      "4001\n",
      "5001\n",
      "6001\n",
      "7001\n",
      "working on year 2015\n",
      "1\n",
      "1001\n",
      "2001\n",
      "3001\n",
      "4001\n",
      "5001\n",
      "6001\n",
      "7001\n",
      "working on year 2016\n",
      "1\n",
      "1001\n",
      "2001\n",
      "3001\n",
      "4001\n",
      "5001\n",
      "6001\n",
      "working on year 2017\n",
      "1\n",
      "1001\n",
      "2001\n",
      "3001\n",
      "4001\n",
      "5001\n",
      "6001\n",
      "working on year 2018\n",
      "1\n",
      "1001\n",
      "2001\n",
      "3001\n",
      "4001\n",
      "5001\n",
      "6001\n",
      "working on year 2019\n",
      "1\n",
      "1001\n",
      "2001\n",
      "3001\n",
      "4001\n",
      "5001\n",
      "6001\n"
     ]
    }
   ],
   "source": [
    "emxt = noaa.get_mo_data_noaa('EMXT', 2013, 2019) # Single max temp for month"
   ]
  },
  {
   "cell_type": "code",
   "execution_count": 14,
   "metadata": {
    "collapsed": true,
    "jupyter": {
     "outputs_hidden": true
    }
   },
   "outputs": [
    {
     "name": "stdout",
     "output_type": "stream",
     "text": [
      "working on year 2013\n",
      "1\n",
      "1001\n",
      "2001\n",
      "3001\n",
      "4001\n",
      "5001\n",
      "6001\n",
      "7001\n",
      "working on year 2014\n",
      "1\n",
      "1001\n",
      "2001\n",
      "3001\n",
      "4001\n",
      "5001\n",
      "6001\n",
      "7001\n",
      "working on year 2015\n",
      "1\n",
      "1001\n",
      "2001\n",
      "3001\n",
      "4001\n",
      "5001\n",
      "6001\n",
      "7001\n",
      "working on year 2016\n",
      "1\n",
      "1001\n",
      "2001\n",
      "3001\n",
      "4001\n",
      "5001\n",
      "6001\n",
      "working on year 2017\n",
      "1\n",
      "1001\n",
      "2001\n",
      "3001\n",
      "4001\n",
      "5001\n",
      "6001\n",
      "working on year 2018\n",
      "1\n",
      "1001\n",
      "2001\n",
      "3001\n",
      "4001\n",
      "5001\n",
      "6001\n",
      "working on year 2019\n",
      "1\n",
      "1001\n",
      "2001\n",
      "3001\n",
      "4001\n",
      "5001\n",
      "6001\n"
     ]
    }
   ],
   "source": [
    "emnt = noaa.get_mo_data_noaa('EMNT', 2013, 2019) # Single min temp for month"
   ]
  },
  {
   "cell_type": "code",
   "execution_count": 15,
   "metadata": {
    "collapsed": true,
    "jupyter": {
     "outputs_hidden": true
    }
   },
   "outputs": [
    {
     "name": "stdout",
     "output_type": "stream",
     "text": [
      "working on year 2013\n",
      "1\n",
      "1001\n",
      "2001\n",
      "3001\n",
      "4001\n",
      "5001\n",
      "6001\n",
      "7001\n",
      "working on year 2014\n",
      "1\n",
      "1001\n",
      "2001\n",
      "3001\n",
      "4001\n",
      "5001\n",
      "6001\n",
      "7001\n",
      "working on year 2015\n",
      "1\n",
      "1001\n",
      "2001\n",
      "3001\n",
      "4001\n",
      "5001\n",
      "6001\n",
      "7001\n",
      "working on year 2016\n",
      "1\n",
      "1001\n",
      "2001\n",
      "3001\n",
      "4001\n",
      "5001\n",
      "6001\n",
      "working on year 2017\n",
      "1\n",
      "1001\n",
      "2001\n",
      "3001\n",
      "4001\n",
      "5001\n",
      "6001\n",
      "working on year 2018\n",
      "1\n",
      "1001\n",
      "2001\n",
      "3001\n",
      "4001\n",
      "5001\n",
      "6001\n",
      "working on year 2019\n",
      "1\n",
      "1001\n",
      "2001\n",
      "3001\n",
      "4001\n",
      "5001\n",
      "6001\n"
     ]
    }
   ],
   "source": [
    "cldd = noaa.get_mo_data_noaa('CLDD', 2013, 2019) #Cooling degree days"
   ]
  },
  {
   "cell_type": "code",
   "execution_count": 16,
   "metadata": {
    "collapsed": true,
    "jupyter": {
     "outputs_hidden": true
    }
   },
   "outputs": [
    {
     "name": "stdout",
     "output_type": "stream",
     "text": [
      "working on year 2013\n",
      "1\n",
      "1001\n",
      "2001\n",
      "3001\n",
      "4001\n",
      "5001\n",
      "6001\n",
      "7001\n",
      "8001\n",
      "working on year 2014\n",
      "1\n",
      "1001\n",
      "2001\n",
      "3001\n",
      "4001\n",
      "5001\n",
      "6001\n",
      "7001\n",
      "8001\n",
      "9001\n",
      "working on year 2015\n",
      "1\n",
      "1001\n",
      "2001\n",
      "3001\n",
      "4001\n",
      "5001\n",
      "6001\n",
      "7001\n",
      "8001\n",
      "9001\n",
      "working on year 2016\n",
      "1\n",
      "1001\n",
      "2001\n",
      "3001\n",
      "4001\n",
      "5001\n",
      "6001\n",
      "7001\n",
      "8001\n",
      "9001\n",
      "working on year 2017\n",
      "1\n",
      "1001\n",
      "2001\n",
      "3001\n",
      "4001\n",
      "5001\n",
      "6001\n",
      "7001\n",
      "8001\n",
      "9001\n",
      "working on year 2018\n",
      "1\n",
      "1001\n",
      "2001\n",
      "3001\n",
      "4001\n",
      "5001\n",
      "6001\n",
      "7001\n",
      "8001\n",
      "9001\n",
      "working on year 2019\n",
      "1\n",
      "1001\n",
      "2001\n",
      "3001\n",
      "4001\n",
      "5001\n",
      "6001\n",
      "7001\n",
      "8001\n"
     ]
    }
   ],
   "source": [
    "prcp = noaa.get_mo_data_noaa('PRCP', 2013, 2019) #Avg precipitation for month"
   ]
  },
  {
   "cell_type": "code",
   "execution_count": 17,
   "metadata": {
    "collapsed": true,
    "jupyter": {
     "outputs_hidden": true
    }
   },
   "outputs": [
    {
     "name": "stdout",
     "output_type": "stream",
     "text": [
      "working on year 2013\n",
      "1\n",
      "1001\n",
      "2001\n",
      "3001\n",
      "4001\n",
      "working on year 2014\n",
      "1\n",
      "1001\n",
      "2001\n",
      "3001\n",
      "working on year 2015\n",
      "1\n",
      "1001\n",
      "2001\n",
      "3001\n",
      "4001\n",
      "working on year 2016\n",
      "1\n",
      "1001\n",
      "2001\n",
      "3001\n",
      "working on year 2017\n",
      "1\n",
      "1001\n",
      "2001\n",
      "3001\n",
      "4001\n",
      "working on year 2018\n",
      "1\n",
      "1001\n",
      "2001\n",
      "3001\n",
      "working on year 2019\n",
      "1\n",
      "1001\n",
      "2001\n",
      "3001\n"
     ]
    }
   ],
   "source": [
    "snow = noaa.get_mo_data_noaa('SNOW', 2013, 2019) #Avg snow precip for month"
   ]
  },
  {
   "cell_type": "code",
   "execution_count": 18,
   "metadata": {
    "collapsed": true,
    "jupyter": {
     "outputs_hidden": true
    }
   },
   "outputs": [
    {
     "name": "stdout",
     "output_type": "stream",
     "text": [
      "working on year 2013\n",
      "1\n",
      "working on year 2014\n",
      "1\n",
      "working on year 2015\n",
      "1\n",
      "working on year 2016\n",
      "1\n",
      "working on year 2017\n",
      "1\n",
      "working on year 2018\n",
      "1\n",
      "working on year 2019\n",
      "1\n"
     ]
    }
   ],
   "source": [
    "evap = noaa.get_mo_data_noaa('EVAP', 2013, 2019) # Total evaporation for month"
   ]
  },
  {
   "cell_type": "code",
   "execution_count": 19,
   "metadata": {
    "collapsed": true,
    "jupyter": {
     "outputs_hidden": true
    }
   },
   "outputs": [
    {
     "name": "stdout",
     "output_type": "stream",
     "text": [
      "working on year 2013\n",
      "1\n",
      "working on year 2014\n",
      "1\n",
      "working on year 2015\n",
      "1\n",
      "working on year 2016\n",
      "1\n",
      "working on year 2017\n",
      "1\n",
      "working on year 2018\n",
      "1\n",
      "working on year 2019\n",
      "1\n"
     ]
    }
   ],
   "source": [
    "awnd = noaa.get_mo_data_noaa('AWND', 2013, 2019) #Average wind speed for the month"
   ]
  },
  {
   "cell_type": "code",
   "execution_count": 25,
   "metadata": {},
   "outputs": [],
   "source": [
    "df_tot = tmax.join(tmin, how='outer')"
   ]
  },
  {
   "cell_type": "code",
   "execution_count": 27,
   "metadata": {},
   "outputs": [],
   "source": [
    "df_tot = df_tot.join(tavg, how = 'outer')"
   ]
  },
  {
   "cell_type": "code",
   "execution_count": 28,
   "metadata": {},
   "outputs": [],
   "source": [
    "df_tot = df_tot.join(emxt, how= 'outer')"
   ]
  },
  {
   "cell_type": "code",
   "execution_count": 30,
   "metadata": {},
   "outputs": [],
   "source": [
    "df_tot = df_tot.join(emnt, how = 'outer')"
   ]
  },
  {
   "cell_type": "code",
   "execution_count": 31,
   "metadata": {},
   "outputs": [],
   "source": [
    "df_tot = df_tot.join(cldd, how = 'outer')"
   ]
  },
  {
   "cell_type": "code",
   "execution_count": 32,
   "metadata": {},
   "outputs": [],
   "source": [
    "df_tot = df_tot.join(prcp, how ='outer')"
   ]
  },
  {
   "cell_type": "code",
   "execution_count": 33,
   "metadata": {},
   "outputs": [],
   "source": [
    "df_tot = df_tot.join(snow, how='outer')"
   ]
  },
  {
   "cell_type": "code",
   "execution_count": 34,
   "metadata": {},
   "outputs": [],
   "source": [
    "df_tot = df_tot.join(evap, how='outer')"
   ]
  },
  {
   "cell_type": "code",
   "execution_count": 35,
   "metadata": {},
   "outputs": [],
   "source": [
    "df_tot = df_tot.join(awnd, how = 'outer')"
   ]
  },
  {
   "cell_type": "code",
   "execution_count": 37,
   "metadata": {},
   "outputs": [],
   "source": [
    "#save this as a csv so we don't have to import all this again\n",
    "df_tot.to_csv('noaa_data_2013_2019.csv')"
   ]
  },
  {
   "cell_type": "code",
   "execution_count": 62,
   "metadata": {},
   "outputs": [
    {
     "data": {
      "text/plain": [
       "(660,)"
      ]
     },
     "execution_count": 62,
     "metadata": {},
     "output_type": "execute_result"
    }
   ],
   "source": [
    "df_tot.CLDD.dropna().droplevel(0).index.unique().shape"
   ]
  },
  {
   "cell_type": "code",
   "execution_count": 47,
   "metadata": {},
   "outputs": [],
   "source": [
    "idx = pd.IndexSlice"
   ]
  },
  {
   "cell_type": "code",
   "execution_count": null,
   "metadata": {},
   "outputs": [],
   "source": []
  }
 ],
 "metadata": {
  "kernelspec": {
   "display_name": "Python 3",
   "language": "python",
   "name": "python3"
  },
  "language_info": {
   "codemirror_mode": {
    "name": "ipython",
    "version": 3
   },
   "file_extension": ".py",
   "mimetype": "text/x-python",
   "name": "python",
   "nbconvert_exporter": "python",
   "pygments_lexer": "ipython3",
   "version": "3.7.4"
  }
 },
 "nbformat": 4,
 "nbformat_minor": 4
}
